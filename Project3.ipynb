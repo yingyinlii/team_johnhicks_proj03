{
  "metadata": {
    "kernelspec": {
      "name": "python",
      "display_name": "Python (Pyodide)",
      "language": "python"
    },
    "language_info": {
      "codemirror_mode": {
        "name": "python",
        "version": 3
      },
      "file_extension": ".py",
      "mimetype": "text/x-python",
      "name": "python",
      "nbconvert_exporter": "python",
      "pygments_lexer": "ipython3",
      "version": "3.8"
    }
  },
  "nbformat_minor": 4,
  "nbformat": 4,
  "cells": [
    {
      "cell_type": "markdown",
      "source": "# Project 3 - Team John Hicks",
      "metadata": {}
    },
    {
      "cell_type": "markdown",
      "source": "### Team members: Stone Yan, Angela Chen, Yingyin Li, Tia Pappas, Daniela Salinas, Lyuheng(Kasper) Zheng",
      "metadata": {}
    },
    {
      "cell_type": "markdown",
      "source": "#### Our topic: ",
      "metadata": {}
    },
    {
      "cell_type": "markdown",
      "source": "#### Our goals include: ",
      "metadata": {}
    },
    {
      "cell_type": "markdown",
      "source": "#### Below are our main deliverables. You can click on any of them to navigate directly to the section that you are interested in. \n\n## Table of Contents\n1. [Choice of population](#Choice-of-population)\n    - (A) Choice of population\n2. [Nutritional content of different food](#Nutritional-content-of-different-food)\n    - (B) Nutritional content of different food\n3. [Nutritional adequacy of diet](#Nutritional-adequacy-of-diet)\n    - (B) Nutritional adequacy of diet\n4. [Estimate demand system](#Estimate-demand-system)\n    - (A) Estimate demand system\n5. [Counterfactual experiments](#Counterfactual-experiments)\n    - (C) Counterfactual experiments\n    \"\"\"\n    display(Markdown(toc))\n\ncreate_toc()",
      "metadata": {}
    },
    {
      "cell_type": "markdown",
      "source": "### 1. (A) Choice of population",
      "metadata": {}
    },
    {
      "cell_type": "markdown",
      "source": "### 2. (B) Nutritional content of different food ",
      "metadata": {}
    },
    {
      "cell_type": "markdown",
      "source": "### 3. (B) Nutritional adequacy of diet ",
      "metadata": {}
    },
    {
      "cell_type": "markdown",
      "source": "### 4. (A) Estimate demand system ",
      "metadata": {}
    },
    {
      "cell_type": "markdown",
      "source": "### 5. (C) Counterfactual experiments ",
      "metadata": {}
    },
    {
      "cell_type": "code",
      "source": "",
      "metadata": {
        "trusted": true
      },
      "outputs": [],
      "execution_count": null
    }
  ]
}