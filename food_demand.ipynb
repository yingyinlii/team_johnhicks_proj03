{
 "cells": [
  {
   "cell_type": "markdown",
   "id": "6e3224a6-6cfc-4f58-9481-89f19c745345",
   "metadata": {},
   "source": [
    "## Consumer Food Demand Estimation"
   ]
  },
  {
   "cell_type": "markdown",
   "id": "98fffaaa-f71b-4213-9d44-2c3766d652e1",
   "metadata": {},
   "source": [
    "Team members: Stone Yan, Angela Chen, Yingyin Li, Tia Pappas, Daniela Salinas, Lyuheng(Kasper) Zheng"
   ]
  },
  {
   "cell_type": "markdown",
   "id": "782f74ad-db10-464c-834c-e02528db6a9c",
   "metadata": {},
   "source": [
    "#### Our Topic and Population of Interest:\n",
    "\n",
    "We are interested in the population of Panama. Our topic is about understanding diets in Panama, characterizing the relationship between people’s food choices, budget and prices. \n",
    "\n",
    "#### Our Goals:  \n",
    "\n",
    "1. Analyze Panama households' food choices and expenditures to assess their diets' nutritional content and adequacy.\n",
    "<br>\n",
    "2. Estimate food demand among Panama, considering household needs and economic factors, and to analyze how changes in expenditure and food prices influence dietary choices.\n",
    "<br>\n",
    "3. Conduct counterfactual experiments to assess how hypothetical economic scenarios, such as changes in food expenditure, prices, shortages, and income, could affect Panama's nutrition.\n"
   ]
  },
  {
   "cell_type": "markdown",
   "id": "fd1e013f-a561-490b-b17c-f9e218477fa0",
   "metadata": {},
   "source": [
    "### (A) Choice of Population & Supporting Data"
   ]
  },
  {
   "cell_type": "markdown",
   "id": "d7afba8c-a4be-4726-b625-3f98c886cba2",
   "metadata": {},
   "source": [
    "#### Data Frame Set Up"
   ]
  },
  {
   "cell_type": "markdown",
   "id": "76f8dd49-c1a5-4e74-b3c3-0a12b80d5785",
   "metadata": {},
   "source": [
    "In the following we will be estimating Constant Frisch Elasticity (CFE) demand systems for our selected population - Panama. We first installed our prerequisites. "
   ]
  },
  {
   "cell_type": "code",
   "execution_count": null,
   "id": "c00de16f-b028-418c-87a8-00994ac49cfe",
   "metadata": {},
   "outputs": [],
   "source": [
    "!pip install -r requirements.txt -q\n",
    "!pip install CFEDemands --upgrade --pre -q\n",
    "!pip install eep153_tools --upgrade -q"
   ]
  },
  {
   "cell_type": "markdown",
   "id": "3df34a86-4184-45b2-8da1-ef05f8205bee",
   "metadata": {},
   "source": [
    "In the following we will be estimating Constant Frisch Elasticity (CFE) demand systems for our selected population - Panama. We first imported the data we need from the Google Sheet. "
   ]
  },
  {
   "cell_type": "code",
   "execution_count": null,
   "id": "81ac80d1-8f38-4dfc-b5f8-af8307182d55",
   "metadata": {},
   "outputs": [],
   "source": [
    "InputFiles = {'Food Expenditures':('1gcAb2jlGQNrD2zrrTEbjL47vbXoxCHkkjHSYzD0-Tiw','Food Expenditures'),\n",
    "              'Food Prices':('1gcAb2jlGQNrD2zrrTEbjL47vbXoxCHkkjHSYzD0-Tiw','Food Prices'),\n",
    "              'Household Characteristics':('1gcAb2jlGQNrD2zrrTEbjL47vbXoxCHkkjHSYzD0-Tiw','Household Characteristics'),\n",
    "              'FCT':('1gcAb2jlGQNrD2zrrTEbjL47vbXoxCHkkjHSYzD0-Tiw','FCT'),\n",
    "              'Copy of RDI':('1gcAb2jlGQNrD2zrrTEbjL47vbXoxCHkkjHSYzD0-Tiw','Copy of RDI'),}"
   ]
  },
  {
   "cell_type": "markdown",
   "id": "448bd0f7-1e8a-4007-8fb3-715d242032f2",
   "metadata": {},
   "source": [
    "We then imported packages that are needed. "
   ]
  },
  {
   "cell_type": "code",
   "execution_count": null,
   "id": "d1a58c08-70ca-452d-b3e9-4780e5da6f90",
   "metadata": {},
   "outputs": [],
   "source": [
    "import numpy as np\n",
    "import pandas as pd\n",
    "from eep153_tools.sheets import read_sheets\n",
    "import cfe\n",
    "from cfe.estimation import drop_columns_wo_covariance\n",
    "from cfe import Regression"
   ]
  },
  {
   "cell_type": "code",
   "execution_count": null,
   "id": "d81e66d2-7f88-443b-903e-71af824b5ba9",
   "metadata": {},
   "outputs": [],
   "source": [
    "def get_clean_sheet(key,sheet=None):\n",
    "\n",
    "    df = read_sheets(key,sheet=sheet)\n",
    "    df.columns = [c.strip() for c in df.columns.tolist()]\n",
    "\n",
    "    df = df.loc[:,~df.columns.duplicated(keep='first')]   \n",
    "\n",
    "    df = df.drop([col for col in df.columns if col.startswith('Unnamed')], axis=1)\n",
    "\n",
    "    df = df.loc[~df.index.duplicated(), :]\n",
    "\n",
    "    return df"
   ]
  },
  {
   "cell_type": "code",
   "execution_count": null,
   "id": "39438168-70b0-40df-83ac-4984cdc2c5f9",
   "metadata": {},
   "outputs": [],
   "source": [
    "# Get food expenditures \n",
    "expenditures = get_clean_sheet(InputFiles['Food Expenditures'][0],\n",
    "                    sheet=InputFiles['Food Expenditures'][1])\n",
    "\n",
    "if 'm' not in expenditures.columns:\n",
    "    expenditures['m'] = 1\n",
    "\n",
    "expenditures = expenditures.set_index(['i','t','m'])\n",
    "expenditures.columns.name = 'j'\n",
    "\n",
    "expenditures = expenditures.apply(lambda x: pd.to_numeric(x,errors='coerce'))\n",
    "expenditures = expenditures.replace(0,np.nan)"
   ]
  },
  {
   "cell_type": "code",
   "execution_count": null,
   "id": "a3f1f540-1530-4c72-bd88-b40a6693a840",
   "metadata": {},
   "outputs": [],
   "source": [
    "# Get Household characteristics \n",
    "hh_characteristics = get_clean_sheet(InputFiles['Household Characteristics'][0],\n",
    "                    sheet=InputFiles['Household Characteristics'][1])\n",
    "\n",
    "if 'm' not in hh_characteristics.columns:\n",
    "    hh_characteristics['m'] = 1\n",
    "\n",
    "hh_characteristics = hh_characteristics.set_index(['i','t','m'])\n",
    "hh_characteristics.columns.name = 'k'\n",
    "#hh_characteristics.name = 'value'  \n",
    "\n",
    "hh_characteristics = hh_characteristics.apply(lambda x: pd.to_numeric(x,errors='coerce'))"
   ]
  },
  {
   "cell_type": "code",
   "execution_count": null,
   "id": "2e0ffa17-c13a-4fea-8c8b-3453e8f3a2fc",
   "metadata": {},
   "outputs": [],
   "source": [
    "# Get food prices and call it p\n",
    "url = 'https://docs.google.com/spreadsheets/d/1gcAb2jlGQNrD2zrrTEbjL47vbXoxCHkkjHSYzD0-Tiw/edit#gid=2085637103'\n",
    "p = read_sheets(url,sheet='Food Prices',nheaders=2)\n",
    "\n",
    "p.columns.names = ['t','m']\n",
    "p.groupby(level='j').mean()\n",
    "\n",
    "#use tranpose to switch columns and rows\n",
    "p = p.transpose()\n",
    "if 'm' not in p.columns:\n",
    "    p['m']=1\n",
    "\n",
    "p=p.apply(lambda x: pd.to_numeric(x,errors='coerce'))\n",
    "p=p.replace(0,np.nan)"
   ]
  },
  {
   "cell_type": "code",
   "execution_count": null,
   "id": "804726b2-b4df-4098-9dc9-046f0e91001b",
   "metadata": {},
   "outputs": [],
   "source": [
    "# Get FCT\n",
    "fct = get_clean_sheet(InputFiles['FCT'][0],\n",
    "                    sheet=InputFiles['FCT'][1])\n",
    "\n",
    "fct = fct.set_index('j')\n",
    "fct.columns.name = 'n'\n",
    "\n",
    "fct = fct.apply(lambda x: pd.to_numeric(x,errors='coerce'))"
   ]
  },
  {
   "cell_type": "code",
   "execution_count": null,
   "id": "bcfb81a5-37a5-42aa-ac77-30085055214d",
   "metadata": {},
   "outputs": [],
   "source": [
    "# Get RDI\n",
    "rdi = get_clean_sheet(InputFiles['Copy of RDI'][0],\n",
    "                    sheet=InputFiles['Copy of RDI'][1])\n",
    "rdi = rdi.set_index('n')\n",
    "rdi.columns.name = 'k'"
   ]
  },
  {
   "cell_type": "markdown",
   "id": "fec2b6f6-8a2a-4341-84ff-e98fb4dcf8ab",
   "metadata": {},
   "source": [
    "#### Show Organized Data Frame"
   ]
  },
  {
   "cell_type": "markdown",
   "id": "11ec4856-5849-43ba-87e4-bbf319a8b49a",
   "metadata": {},
   "source": [
    "Show food expenditures dataframe."
   ]
  },
  {
   "cell_type": "code",
   "execution_count": null,
   "id": "fc62fb14-a8f0-46b9-a159-6ac8d1cad994",
   "metadata": {},
   "outputs": [],
   "source": [
    "expenditures.head()"
   ]
  },
  {
   "cell_type": "markdown",
   "id": "d3afc6fc-9518-423f-96a2-2490268a6554",
   "metadata": {},
   "source": [
    "Show household characteristics dataframe."
   ]
  },
  {
   "cell_type": "code",
   "execution_count": null,
   "id": "0b2fbb48-6de8-497c-a3d5-498c3e0649b5",
   "metadata": {},
   "outputs": [],
   "source": [
    "hh_characteristics.head()"
   ]
  },
  {
   "cell_type": "markdown",
   "id": "d52f1498-08aa-4391-8851-70104d0c0ead",
   "metadata": {},
   "source": [
    "Show food prices dataframe."
   ]
  },
  {
   "cell_type": "code",
   "execution_count": null,
   "id": "68ebbf04-2014-4bfe-98e0-c86686dd3e15",
   "metadata": {},
   "outputs": [],
   "source": [
    "p.head()"
   ]
  },
  {
   "cell_type": "markdown",
   "id": "b4552ed1-fbd9-4306-9fc1-1d488b5f25de",
   "metadata": {},
   "source": [
    "Show FCT dataframe"
   ]
  },
  {
   "cell_type": "code",
   "execution_count": null,
   "id": "5992c14e-4881-45cb-9e01-d4552a04f6b3",
   "metadata": {},
   "outputs": [],
   "source": [
    "fct.head()"
   ]
  },
  {
   "cell_type": "markdown",
   "id": "696beab0-76b4-476b-9021-5a9166b64e25",
   "metadata": {},
   "source": [
    "Show RDI dataframe."
   ]
  },
  {
   "cell_type": "code",
   "execution_count": null,
   "id": "9cfcd5ef-3e3f-4afb-90fe-c43ad7ee654f",
   "metadata": {},
   "outputs": [],
   "source": [
    "rdi.head()"
   ]
  },
  {
   "cell_type": "markdown",
   "id": "dee7a13e-e591-4537-a9f0-ea5147a95ff1",
   "metadata": {},
   "source": [
    "### (A) Estimate demand system"
   ]
  },
  {
   "cell_type": "markdown",
   "id": "f3a4a4d4-4527-4bf3-8b3a-1b1283017795",
   "metadata": {},
   "source": [
    " Let $y_{i}^j$ be log household expenditure on food item $j$ from household $i$ of Panama. Our estimation regression takes the following form: \n",
    " $$\n",
    "      y^j_{i} = A^j(p) + \\gamma_j'd_i + \\beta_j w_i + \\zeta^j_i.\n",
    "$$"
   ]
  },
  {
   "cell_type": "markdown",
   "id": "57e05cbb-10cd-44ff-9221-a359652b0268",
   "metadata": {},
   "source": [
    "The formula above models the log household expenditure as a function of <br>\n",
    "\n",
    "$A^j(p)$: A price index for food $j$, capturing how the pricing of good $j$ affects expenditure on food $j$;\n",
    "<br>\n",
    "$\\gamma_j'd_i$: A household characterics demonstrating how demographics affects expenditure on food $j$; $\\gamma_j$ is its coefficient.\n",
    "<br>\n",
    "$\\beta_j w_i$: This term captures how the household's overall wealth affects its expenditure on food $j$; $\\beta_j$ is its coefficent.\n",
    "<br>\n",
    "$\\zeta^j_i$: This term captures other unobserved effect that influence food expenditure. \n"
   ]
  },
  {
   "cell_type": "code",
   "execution_count": null,
   "id": "f025dd8b-4548-4291-8010-871815dfb50d",
   "metadata": {},
   "outputs": [],
   "source": [
    "# log_expenditures represents the logarithm of food expenditures.\n",
    "log_expenditures = np.log(expenditures)\n",
    "\n",
    "log_expenditures.head()"
   ]
  },
  {
   "cell_type": "code",
   "execution_count": null,
   "id": "795deeb9-ef68-4eec-8a4e-48fcd308e16f",
   "metadata": {},
   "outputs": [],
   "source": [
    "use = log_expenditures.index.intersection(hh_characteristics.index)\n",
    "\n",
    "log_expenditures = log_expenditures.loc[use,:]\n",
    "hh_characteristics = hh_characteristics.loc[use,:]"
   ]
  },
  {
   "cell_type": "code",
   "execution_count": null,
   "id": "a2e10b48-b574-4787-ad83-5b9c9d84e9f0",
   "metadata": {},
   "outputs": [],
   "source": [
    "log_expenditures = log_expenditures.stack()\n",
    "hh_characteristics = hh_characteristics.stack()\n",
    "\n",
    "# Check that indices are in right places!\n",
    "assert log_expenditures.index.names == ['i','t','m','j']\n",
    "assert hh_characteristics.index.names == ['i','t','m','k']"
   ]
  },
  {
   "cell_type": "markdown",
   "id": "ea6510d9-577f-46ae-ad48-4f64888aea35",
   "metadata": {},
   "source": [
    "#### 1. Basic Estimation Using Regression"
   ]
  },
  {
   "cell_type": "code",
   "execution_count": null,
   "id": "97619b28-6f84-423b-8c6c-508350e2ec3d",
   "metadata": {},
   "outputs": [],
   "source": [
    "#set up regression\n",
    "result = Regression(y = log_expenditures,d = hh_characteristics)\n",
    "\n",
    "print(log_expenditures.shape)\n",
    "print(hh_characteristics.shape)"
   ]
  },
  {
   "cell_type": "code",
   "execution_count": null,
   "id": "9b4601fb-5d94-420e-972a-4e6d3b61d990",
   "metadata": {},
   "outputs": [],
   "source": [
    "#get regression results\n",
    "result.predicted_expenditures()"
   ]
  },
  {
   "cell_type": "code",
   "execution_count": null,
   "id": "b10fd1be-b5f6-400c-9fcf-274a547656b1",
   "metadata": {},
   "outputs": [],
   "source": [
    "# use the graph to compare log food expenditures and actual expenditures\n",
    "%matplotlib widget\n",
    "df = pd.DataFrame({'y':log_expenditures,'yhat':result.get_predicted_log_expenditures()})\n",
    "df.plot.scatter(x='yhat',y='y')"
   ]
  },
  {
   "cell_type": "markdown",
   "id": "4fe08d2d-2f17-4b6d-ab5a-5124ff6af4ef",
   "metadata": {},
   "source": [
    "#### 2. Analyze Income Elasticity"
   ]
  },
  {
   "cell_type": "code",
   "execution_count": null,
   "id": "7e8b01bc-35db-447d-bcff-b85dd3f216b0",
   "metadata": {},
   "outputs": [],
   "source": [
    "#get the value of beta - As shown above, beta captures how the household's overall wealth affects its expenditures on food. \n",
    "result.get_beta().sort_values()"
   ]
  },
  {
   "cell_type": "code",
   "execution_count": null,
   "id": "9cac002a-75cd-4e98-8aa5-bc4cb4644b3e",
   "metadata": {},
   "outputs": [],
   "source": [
    "#graph beta\n",
    "result.graph_beta()"
   ]
  },
  {
   "cell_type": "code",
   "execution_count": null,
   "id": "f9c11b70-293c-4f00-9f3f-1cbca528cd7b",
   "metadata": {},
   "outputs": [],
   "source": [
    "#get the value of gamma - As shown above, gamma captures how household characteristics affects its expenditures on food. \n",
    "result.gamma"
   ]
  },
  {
   "cell_type": "code",
   "execution_count": null,
   "id": "a9c1bafa-7bc9-419c-ba1b-195dda51e001",
   "metadata": {},
   "outputs": [],
   "source": [
    "#To save result\n",
    "result.to_pickle('estimates.pickle')\n",
    "\n",
    "result = cfe.regression.read_pickle('estimates.pickle')"
   ]
  },
  {
   "cell_type": "code",
   "execution_count": null,
   "id": "7d0b2a81-dc2f-4226-a27a-133b0b030738",
   "metadata": {},
   "outputs": [],
   "source": []
  },
  {
   "cell_type": "code",
   "execution_count": null,
   "id": "b6d3d398-2777-4cc2-a876-a8da84ad0643",
   "metadata": {},
   "outputs": [],
   "source": []
  }
 ],
 "metadata": {
  "kernelspec": {
   "display_name": "Python 3 (ipykernel)",
   "language": "python",
   "name": "python3"
  },
  "language_info": {
   "codemirror_mode": {
    "name": "ipython",
    "version": 3
   },
   "file_extension": ".py",
   "mimetype": "text/x-python",
   "name": "python",
   "nbconvert_exporter": "python",
   "pygments_lexer": "ipython3",
   "version": "3.9.15"
  }
 },
 "nbformat": 4,
 "nbformat_minor": 5
}
